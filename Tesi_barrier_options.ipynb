{
  "nbformat": 4,
  "nbformat_minor": 0,
  "metadata": {
    "colab": {
      "provenance": []
    },
    "kernelspec": {
      "name": "python3",
      "display_name": "Python 3"
    },
    "language_info": {
      "name": "python"
    }
  },
  "cells": [
    {
      "cell_type": "code",
      "source": [
        "import numpy as np\n",
        "from scipy.stats import norm\n",
        "\n",
        "def down_and_in_call(S0, H, K, T, r, q, sigma):\n",
        "    # Lambda (λ) calculation\n",
        "    lambda_val = (r - q + 0.5 * sigma**2) / sigma**2\n",
        "\n",
        "    # y calculation\n",
        "    y = (np.log(H**2 / (S0 * K)) / (sigma * np.sqrt(T))) + lambda_val * sigma * np.sqrt(T)\n",
        "\n",
        "    # Calculate the price of the down-and-in call\n",
        "    N_y = norm.cdf(y)\n",
        "    N_y_sigmaT = norm.cdf(y - sigma * np.sqrt(T))\n",
        "\n",
        "    c_di = S0 * np.exp(-q * T) * (H / S0)**(2 * lambda_val) * N_y - K * np.exp(-r * T) * (H / S0)**(2 * lambda_val - 2) * N_y_sigmaT\n",
        "    return c_di\n",
        "\n",
        "def european_call(S0, K, T, r, q, sigma):\n",
        "    # d1 and d2 for the standard European call option\n",
        "    d1 = (np.log(S0 / K) + (r - q + 0.5 * sigma**2) * T) / (sigma * np.sqrt(T))\n",
        "    d2 = d1 - sigma * np.sqrt(T)\n",
        "\n",
        "    # European call option price\n",
        "    call_price = S0 * np.exp(-q * T) * norm.cdf(d1) - K * np.exp(-r * T) * norm.cdf(d2)\n",
        "    return call_price\n",
        "\n",
        "def down_and_out_call(S0, H, K, T, r, q, sigma):\n",
        "    # Price of a regular European call option\n",
        "    european_call_price = european_call(S0, K, T, r, q, sigma)\n",
        "\n",
        "    # Price of a down-and-in call option\n",
        "    down_in_call_price = down_and_in_call(S0, H, K, T, r, q, sigma)\n",
        "\n",
        "    # Down-and-out call is the European call minus the down-and-in call\n",
        "    down_out_call_price = european_call_price - down_in_call_price\n",
        "    return down_out_call_price\n",
        "\n",
        "# Example parameters\n",
        "S0 = 100  # Current asset price\n",
        "H = 90    # Barrier level\n",
        "K = 95    # Strike price\n",
        "T = 1     # Time to maturity in years\n",
        "r = 0.05  # Risk-free interest rate\n",
        "q = 0.02  # Dividend yield\n",
        "sigma = 0.2  # Volatility\n",
        "\n",
        "# Pricing the options\n",
        "di_call_price = down_and_in_call(S0, H, K, T, r, q, sigma)\n",
        "do_call_price = down_and_out_call(S0, H, K, T, r, q, sigma)\n",
        "\n",
        "print(f\"Down-and-In Call Price: {di_call_price:.2f}\")\n",
        "print(f\"Down-and-Out Call Price: {do_call_price:.2f}\")\n"
      ],
      "metadata": {
        "colab": {
          "base_uri": "https://localhost:8080/"
        },
        "id": "mQMfftRA_Lx6",
        "outputId": "dec180d7-bf1a-4482-a3de-6675fc46a258"
      },
      "execution_count": null,
      "outputs": [
        {
          "output_type": "stream",
          "name": "stdout",
          "text": [
            "Down-and-In Call Price: 2.50\n",
            "Down-and-Out Call Price: 9.44\n"
          ]
        }
      ]
    }
  ]
}