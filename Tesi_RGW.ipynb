{
  "nbformat": 4,
  "nbformat_minor": 0,
  "metadata": {
    "colab": {
      "provenance": []
    },
    "kernelspec": {
      "name": "python3",
      "display_name": "Python 3"
    },
    "language_info": {
      "name": "python"
    }
  },
  "cells": [
    {
      "cell_type": "code",
      "source": [
        "import numpy as np\n",
        "from scipy.stats import norm, mvn\n",
        "from scipy.optimize import fsolve\n",
        "\n",
        "# Function to compute the bivariate normal CDF M(a, b; rho)\n",
        "def M_bivariate_normal(a, b, rho):\n",
        "    lower = [-np.inf, -np.inf]\n",
        "    upper = [a, b]\n",
        "    mean = [0, 0]\n",
        "    cov_matrix = [[1, rho], [rho, 1]]  # Covariance matrix with correlation rho\n",
        "    p, _ = mvn.mvnun(lower, upper, mean, cov_matrix)\n",
        "    return p\n",
        "\n",
        "# Black-Scholes formula for European call option price\n",
        "def black_scholes_call(S, K, T, r, sigma):\n",
        "    d1 = (np.log(S / K) + (r + 0.5 * sigma**2) * T) / (sigma * np.sqrt(T))\n",
        "    d2 = d1 - sigma * np.sqrt(T)\n",
        "    call_price = S * norm.cdf(d1) - K * np.exp(-r * T) * norm.cdf(d2)\n",
        "    return call_price\n",
        "\n",
        "# Roll-Geske-Whaley formula for American call option\n",
        "def roll_geske_whaley(S0, K, r, T, sigma, D1, t1):\n",
        "    # a1 and a2\n",
        "    a1 = (np.log((S0 - D1 * np.exp(-r * t1)) / K) + (r + 0.5 * sigma**2) * T) / (sigma * np.sqrt(T))\n",
        "    a2 = a1 - sigma * np.sqrt(T)\n",
        "\n",
        "    # Solving for S_star\n",
        "    def bs_condition(S_star):\n",
        "        return black_scholes_call(S_star, K, T - t1, r, sigma) - (S_star + D1 - K)\n",
        "\n",
        "    S_star = fsolve(bs_condition, S0)[0]\n",
        "\n",
        "    # b1 and b2\n",
        "    b1 = (np.log((S0 - D1 * np.exp(-r * t1)) / S_star) + (r + 0.5 * sigma**2) * t1) / (sigma * np.sqrt(t1))\n",
        "    b2 = b1 - sigma * np.sqrt(t1)\n",
        "\n",
        "    # Correlation between the two variables\n",
        "    rho = -np.sqrt(t1 / T)\n",
        "\n",
        "    # Roll-Geske-Whaley formula components using bivariate normal CDF M(a, b; rho)\n",
        "    M1 = M_bivariate_normal(a1, -b1, rho)\n",
        "    M2 = M_bivariate_normal(a2, -b2, rho)\n",
        "\n",
        "    # Final price calculation\n",
        "    call_price = (S0 - D1 * np.exp(-r * t1)) * M1 + (S0 - D1 * np.exp(-r * t1)) * norm.cdf(b1)\n",
        "    call_price -= K * np.exp(-r * T) * M2 + (K - D1) * np.exp(-r * T) * norm.cdf(b2)\n",
        "\n",
        "    return call_price\n",
        "\n",
        "# Parameters\n",
        "S0 = 100  # Current stock price\n",
        "K = 100   # Strike price\n",
        "r = 0.05  # Risk-free interest rate\n",
        "T = 1.0   # Time to maturity (years)\n",
        "sigma = 0.2  # Volatility\n",
        "D1 = 2.0  # Dividend payment\n",
        "t1 = 0.5  # Time of dividend payment (years)\n",
        "\n",
        "# Calculate the American call option price\n",
        "call_price = roll_geske_whaley(S0, K, r, T, sigma, D1, t1)\n",
        "print(f\"Roll-Geske-Whaley American Call Option Price: {call_price:.4f}\")\n"
      ],
      "metadata": {
        "colab": {
          "base_uri": "https://localhost:8080/"
        },
        "id": "GutO84NOCz3d",
        "outputId": "c4475b27-8593-48d9-90c8-bc03e683c9e8"
      },
      "execution_count": 3,
      "outputs": [
        {
          "output_type": "stream",
          "name": "stdout",
          "text": [
            "Roll-Geske-Whaley American Call Option Price: 9.2447\n"
          ]
        },
        {
          "output_type": "stream",
          "name": "stderr",
          "text": [
            "<ipython-input-3-bfa89bdc4fa4>:31: RuntimeWarning: The iteration is not making good progress, as measured by the \n",
            "  improvement from the last ten iterations.\n",
            "  S_star = fsolve(bs_condition, S0)[0]\n",
            "<ipython-input-3-bfa89bdc4fa4>:11: DeprecationWarning: `scipy.stats.mvn.mvnun` is deprecated along with the `scipy.stats.mvn` namespace. `scipy.stats.mvn.mvnun` will be removed in SciPy 1.14.0, and the `scipy.stats.mvn` namespace will be removed in SciPy 2.0.0.\n",
            "  p, _ = mvn.mvnun(lower, upper, mean, cov_matrix)\n"
          ]
        }
      ]
    }
  ]
}