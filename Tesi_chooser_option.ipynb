{
  "nbformat": 4,
  "nbformat_minor": 0,
  "metadata": {
    "colab": {
      "provenance": []
    },
    "kernelspec": {
      "name": "python3",
      "display_name": "Python 3"
    },
    "language_info": {
      "name": "python"
    }
  },
  "cells": [
    {
      "cell_type": "code",
      "execution_count": 1,
      "metadata": {
        "colab": {
          "base_uri": "https://localhost:8080/"
        },
        "id": "mOqFh6waZ0YO",
        "outputId": "966495dd-27e5-4360-e13e-437b77e98ecd"
      },
      "outputs": [
        {
          "output_type": "stream",
          "name": "stdout",
          "text": [
            "The chooser option price is: 10.15\n"
          ]
        }
      ],
      "source": [
        "import numpy as np\n",
        "from scipy.stats import norm\n",
        "\n",
        "def black_scholes_call(S, K, T, r, q, sigma):\n",
        "    \"\"\" Calculate the price of a European call option using the Black-Scholes formula. \"\"\"\n",
        "    d1 = (np.log(S / K) + (r - q + 0.5 * sigma**2) * T) / (sigma * np.sqrt(T))\n",
        "    d2 = d1 - sigma * np.sqrt(T)\n",
        "    return S * np.exp(-q * T) * norm.cdf(d1) - K * np.exp(-r * T) * norm.cdf(d2)\n",
        "\n",
        "def black_scholes_put(S, K, T, r, q, sigma):\n",
        "    \"\"\" Calculate the price of a European put option using the Black-Scholes formula. \"\"\"\n",
        "    d1 = (np.log(S / K) + (r - q + 0.5 * sigma**2) * T) / (sigma * np.sqrt(T))\n",
        "    d2 = d1 - sigma * np.sqrt(T)\n",
        "    return K * np.exp(-r * T) * norm.cdf(-d2) - S * np.exp(-q * T) * norm.cdf(-d1)\n",
        "\n",
        "def price_chooser_option(S0, K, T1, T2, r, q, sigma, c):\n",
        "    \"\"\" Calculate the price of a chooser option. \"\"\"\n",
        "    # Calculate the strike price for the put option\n",
        "    K_put = K * np.exp(-(r - q) * (T2 - T1))\n",
        "\n",
        "    # Price of the call option with strike K and maturity T2\n",
        "    call_price = black_scholes_call(S0, K, T2, r, q, sigma)\n",
        "\n",
        "    # Price of the put option with strike K_put and maturity T1\n",
        "    put_price = black_scholes_put(S0, K_put, T1, r, q, sigma)\n",
        "\n",
        "    # Quantity of put options is e^{-q(T2-T1)}\n",
        "    put_quantity = np.exp(-q * (T2 - T1))\n",
        "\n",
        "    # Price of the chooser option\n",
        "    chooser_price = c + put_quantity * put_price\n",
        "\n",
        "    return chooser_price\n",
        "\n",
        "# Example parameters\n",
        "S0 = 100       # Initial asset price\n",
        "K = 105        # Strike price of the chooser option\n",
        "T1 = 0.5       # Time to maturity of the put option (in years)\n",
        "T2 = 1.0       # Time to maturity of the call option (in years)\n",
        "r = 0.03       # Risk-free interest rate (3%)\n",
        "q = 0.02       # Dividend yield (2%)\n",
        "sigma = 0.25   # Volatility (25%)\n",
        "c = 1.0        # Constant term in the chooser option price\n",
        "\n",
        "# Price the chooser option\n",
        "chooser_price = price_chooser_option(S0, K, T1, T2, r, q, sigma, c)\n",
        "print(f\"The chooser option price is: {chooser_price:.2f}\")\n"
      ]
    }
  ]
}