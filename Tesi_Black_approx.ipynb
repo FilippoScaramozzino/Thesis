{
  "nbformat": 4,
  "nbformat_minor": 0,
  "metadata": {
    "colab": {
      "provenance": []
    },
    "kernelspec": {
      "name": "python3",
      "display_name": "Python 3"
    },
    "language_info": {
      "name": "python"
    }
  },
  "cells": [
    {
      "cell_type": "code",
      "source": [
        "import numpy as np\n",
        "from scipy.stats import norm\n",
        "\n",
        "# Parameters\n",
        "S0 = 100  # Current stock price\n",
        "K = 100   # Strike price\n",
        "r = 0.05  # Risk-free interest rate\n",
        "T = 1.0   # Time to maturity (years)\n",
        "sigma = 0.2  # Volatility\n",
        "D1 = 2.0  # Dividend payment\n",
        "t1 = 0.5  # Time of dividend payment (years)\n",
        "\n",
        "# Black Approximation\n",
        "# European call pricing formula without dividend\n",
        "def european_call_price(S0, K, r, T, sigma):\n",
        "    \"\"\" European call price using Black-Scholes formula without dividend yield \"\"\"\n",
        "    d1 = (np.log(S0 / K) + (r + 0.5 * sigma**2) * T) / (sigma * np.sqrt(T))\n",
        "    d2 = d1 - sigma * np.sqrt(T)\n",
        "    call_price = S0 * norm.cdf(d1) - K * np.exp(-r * T) * norm.cdf(d2)\n",
        "    return call_price\n",
        "\n",
        "# Black Approximation for American Option\n",
        "def black_approximation_american(S0, K, r, T, sigma, D1, t1):\n",
        "    \"\"\" Black approximation to price an American call option with discrete dividend D1 at t1 \"\"\"\n",
        "\n",
        "    # Price a European call with maturity T after dividend is paid (stock reduced by D1)\n",
        "    S_after_div = S0 - D1 * np.exp(-r * t1)\n",
        "    call_after_div = european_call_price(S_after_div, K, r, T, sigma)\n",
        "\n",
        "    # Price a European call with maturity t1 before the dividend is paid (no dividend effect)\n",
        "    call_before_div = european_call_price(S0, K, r, t1, sigma)\n",
        "\n",
        "    # The American option price is the maximum of these two\n",
        "    call_american = max(call_before_div, call_after_div)\n",
        "\n",
        "    return call_american\n",
        "\n",
        "# Compare the results\n",
        "#call_rg = roll_geske_whaley(S0, K, r, T, sigma, D1, t1)\n",
        "call_black = black_approximation_american(S0, K, r, T, sigma, D1, t1)\n",
        "\n",
        "#print(f\"Roll Geske Whaley Price: {call_rg:.4f}\")\n",
        "print(f\"Black Approximation Price: {call_black:.4f}\")\n"
      ],
      "metadata": {
        "colab": {
          "base_uri": "https://localhost:8080/"
        },
        "id": "uyJzctEkzEWo",
        "outputId": "e04cc09e-7a83-4980-80db-0d72c8e252a3"
      },
      "execution_count": 15,
      "outputs": [
        {
          "output_type": "stream",
          "name": "stdout",
          "text": [
            "Black Approximation Price: 9.2447\n"
          ]
        }
      ]
    }
  ]
}